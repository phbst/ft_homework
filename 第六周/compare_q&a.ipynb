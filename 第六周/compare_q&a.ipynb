{
 "cells": [
  {
   "cell_type": "code",
   "execution_count": 2,
   "id": "d2086b6e-e5d6-482f-b64d-63f6d65fca15",
   "metadata": {
    "ExecutionIndicator": {
     "show": false
    },
    "execution": {
     "iopub.execute_input": "2024-01-30T11:14:51.258548Z",
     "iopub.status.busy": "2024-01-30T11:14:51.258078Z",
     "iopub.status.idle": "2024-01-30T11:15:09.080299Z",
     "shell.execute_reply": "2024-01-30T11:15:09.079567Z",
     "shell.execute_reply.started": "2024-01-30T11:14:51.258509Z"
    },
    "tags": []
   },
   "outputs": [
    {
     "name": "stderr",
     "output_type": "stream",
     "text": [
      "Loading checkpoint shards: 100%|██████████| 7/7 [00:13<00:00,  1.92s/it]\n"
     ]
    }
   ],
   "source": [
    "\n",
    "import torch\n",
    "from transformers import AutoModel, AutoTokenizer,BitsAndBytesConfig\n",
    "from peft import PeftModel,PeftConfig\n",
    "base_model_path=\"/mnt/data/chatglm3-6b-model\"\n",
    "q_config=BitsAndBytesConfig(\n",
    "    load_in_4bit=True,\n",
    "    bnb_4bit_quant_type='nf4',\n",
    "    bnb_4bit_use_double_quant=True,\n",
    "    bnb_4bit_compute_dtype=torch.float16\n",
    ")\n",
    "base_model=AutoModel.from_pretrained(base_model_path,quantization_config=q_config,device_map=\"auto\",trust_remote_code=True)\n"
   ]
  },
  {
   "cell_type": "code",
   "execution_count": 4,
   "id": "ae8c1b49-3ded-4ae9-926a-60b8ffed1be2",
   "metadata": {
    "ExecutionIndicator": {
     "show": true
    },
    "execution": {
     "iopub.execute_input": "2024-01-30T11:15:16.766665Z",
     "iopub.status.busy": "2024-01-30T11:15:16.766175Z",
     "iopub.status.idle": "2024-01-30T11:15:17.214805Z",
     "shell.execute_reply": "2024-01-30T11:15:17.214022Z",
     "shell.execute_reply.started": "2024-01-30T11:15:16.766634Z"
    },
    "tags": []
   },
   "outputs": [],
   "source": [
    "tokenizer=AutoTokenizer.from_pretrained(base_model_path,trust_remote_code=True)\n"
   ]
  },
  {
   "cell_type": "code",
   "execution_count": 6,
   "id": "bb91f9af-24ac-451f-bf1c-a0793b8f64c1",
   "metadata": {
    "ExecutionIndicator": {
     "show": true
    },
    "execution": {
     "iopub.execute_input": "2024-01-30T11:16:52.805056Z",
     "iopub.status.busy": "2024-01-30T11:16:52.804541Z",
     "iopub.status.idle": "2024-01-30T11:16:52.978184Z",
     "shell.execute_reply": "2024-01-30T11:16:52.977411Z",
     "shell.execute_reply.started": "2024-01-30T11:16:52.805026Z"
    },
    "tags": []
   },
   "outputs": [],
   "source": [
    "ft_model_path=\"./phb/chatglm3-ft\"\n",
    "config=PeftConfig.from_pretrained(ft_model_path)\n",
    "model=PeftModel.from_pretrained(base_model,ft_model_path)\n",
    "\n",
    "def compare_base_to_ft(q):\n",
    "    base_response,base_history=base_model.chat(tokenizer,q)\n",
    "\n",
    "    inputs=tokenizer(q,return_tensors=\"pt\").to(0)\n",
    "    ft_outputs=model.generate(**inputs)\n",
    "    ft_response=tokenizer.decode(ft_outputs[0],skip_special_tokens=True)\n",
    "    print(\"问题：{}\\n\".format(q))\n",
    "    print(\"basic：{}\".format(base_response))\n",
    "    print(\"ft:\"+ft_response)"
   ]
  },
  {
   "cell_type": "code",
   "execution_count": 7,
   "id": "69fff7aa-550b-437b-89ae-50197e8e004e",
   "metadata": {
    "execution": {
     "iopub.execute_input": "2024-01-30T11:17:32.988007Z",
     "iopub.status.busy": "2024-01-30T11:17:32.987320Z",
     "iopub.status.idle": "2024-01-30T11:17:43.479375Z",
     "shell.execute_reply": "2024-01-30T11:17:43.478633Z",
     "shell.execute_reply.started": "2024-01-30T11:17:32.987975Z"
    },
    "tags": []
   },
   "outputs": [
    {
     "name": "stderr",
     "output_type": "stream",
     "text": [
      "2024-01-30 19:17:36.045974: I tensorflow/tsl/cuda/cudart_stub.cc:28] Could not find cuda drivers on your machine, GPU will not be used.\n",
      "2024-01-30 19:17:36.468002: E tensorflow/compiler/xla/stream_executor/cuda/cuda_dnn.cc:9342] Unable to register cuDNN factory: Attempting to register factory for plugin cuDNN when one has already been registered\n",
      "2024-01-30 19:17:36.468038: E tensorflow/compiler/xla/stream_executor/cuda/cuda_fft.cc:609] Unable to register cuFFT factory: Attempting to register factory for plugin cuFFT when one has already been registered\n",
      "2024-01-30 19:17:36.470884: E tensorflow/compiler/xla/stream_executor/cuda/cuda_blas.cc:1518] Unable to register cuBLAS factory: Attempting to register factory for plugin cuBLAS when one has already been registered\n",
      "2024-01-30 19:17:36.706271: I tensorflow/tsl/cuda/cudart_stub.cc:28] Could not find cuda drivers on your machine, GPU will not be used.\n",
      "2024-01-30 19:17:36.708346: I tensorflow/core/platform/cpu_feature_guard.cc:182] This TensorFlow binary is optimized to use available CPU instructions in performance-critical operations.\n",
      "To enable the following instructions: AVX2 AVX512F FMA, in other operations, rebuild TensorFlow with the appropriate compiler flags.\n",
      "2024-01-30 19:17:38.262021: W tensorflow/compiler/tf2tensorrt/utils/py_utils.cc:38] TF-TRT Warning: Could not find TensorRT\n",
      "/opt/conda/lib/python3.10/site-packages/transformers/generation/utils.py:1355: UserWarning: Using the model-agnostic default `max_length` (=20) to control the generation length. We recommend setting `max_new_tokens` to control the maximum length of the generation.\n",
      "  warnings.warn(\n"
     ]
    },
    {
     "name": "stdout",
     "output_type": "stream",
     "text": [
      "问题：今天过得怎样？\n",
      "\n",
      "basic：作为一款人工智能助手，我没有个人感受和经历，但我一直处于准备状态，随时为您提供帮助和服务。如果您有什么需要帮助的问题，请随时告诉我，我会尽力为您提供解答和解决方案。\n",
      "ft:[gMASK]sop 今天过得怎样？ 亲爱的，今天我过得很好，谢谢你的关心。你呢\n"
     ]
    }
   ],
   "source": [
    "compare_base_to_ft(\"今天过得怎样？\")"
   ]
  },
  {
   "cell_type": "markdown",
   "id": "e8afe9c4-af65-455e-92e4-942de978db36",
   "metadata": {},
   "source": [
    "## 问题：今天过得怎样？\n",
    "\n",
    "#basic：作为一款人工智能助手，我没有个人感受和经历，但我一直处于准备状态，随时为您提供帮助和服务。如果您有什么需要帮助的问题，请随时告诉我，我会尽力为您提供解答和解决方案。\n",
    "\n",
    "ft:[gMASK]sop 今天过得怎样？ 亲爱的，今天我过得很好，谢谢你的关心。你呢"
   ]
  },
  {
   "cell_type": "code",
   "execution_count": null,
   "id": "d5d7f279-8714-42d3-a911-e51cd2a0a267",
   "metadata": {},
   "outputs": [],
   "source": []
  }
 ],
 "metadata": {
  "kernelspec": {
   "display_name": "Python 3 (ipykernel)",
   "language": "python",
   "name": "python3"
  },
  "language_info": {
   "codemirror_mode": {
    "name": "ipython",
    "version": 3
   },
   "file_extension": ".py",
   "mimetype": "text/x-python",
   "name": "python",
   "nbconvert_exporter": "python",
   "pygments_lexer": "ipython3",
   "version": "3.10.13"
  }
 },
 "nbformat": 4,
 "nbformat_minor": 5
}
