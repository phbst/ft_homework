{
 "cells": [
  {
   "cell_type": "markdown",
   "source": [
    "## 下载模型和数据集"
   ],
   "metadata": {
    "collapsed": false
   },
   "id": "1b750f6679a3f378"
  },
  {
   "cell_type": "code",
   "outputs": [],
   "source": [
    "import os\n",
    "import subprocess\n",
    "\n",
    "# 设置 HF_ENDPOINT 环境变量\n",
    "os.environ['HF_ENDPOINT'] = 'https://hf-mirror.com'\n",
    "\n",
    "def download_model(model_name):\n",
    "    try:\n",
    "        subprocess.run(['huggingface-cli', 'download', '--resume-download', model_name,'--local-dir',model_name], check=True)\n",
    "        print(f\"Model '{model_name}' downloaded successfully.\")\n",
    "    except subprocess.CalledProcessError as e:\n",
    "        print(f\"Error downloading model '{model_name}': {e}\")\n",
    "\n",
    "def download_dataset(dataset_name):\n",
    "    try:\n",
    "        subprocess.run(['huggingface-cli', 'download', '--resume-download','--repo-type','dataset',dataset_name,\"--local-dir\",dataset_name], check=True)\n",
    "        print(f\"Dataset '{dataset_name}' downloaded successfully.\")\n",
    "    except subprocess.CalledProcessError as e:\n",
    "        print(f\"Error downloading dataset '{dataset_name}': {e}\")"
   ],
   "metadata": {
    "collapsed": false,
    "ExecuteTime": {
     "start_time": "2024-01-29T07:53:57.759463800Z"
    }
   },
   "id": "a5f096e6d17479ef"
  },
  {
   "cell_type": "code",
   "outputs": [],
   "source": [
    "download_model('facebook/opt-6.7b')"
   ],
   "metadata": {
    "collapsed": false,
    "ExecuteTime": {
     "end_time": "2024-01-29T08:08:13.229049500Z",
     "start_time": "2024-01-29T08:08:13.222598600Z"
    }
   },
   "id": "3813918558beffb5",
   "execution_count": 0
  },
  {
   "cell_type": "code",
   "outputs": [],
   "source": [],
   "metadata": {
    "collapsed": false,
    "ExecuteTime": {
     "end_time": "2024-01-29T08:08:58.099784Z",
     "start_time": "2024-01-29T08:08:58.085529300Z"
    }
   },
   "id": "ab34e404f1d1c007",
   "execution_count": 0
  },
  {
   "cell_type": "markdown",
   "source": [
    "## 加载分词器，配置量化超参数，加载模型"
   ],
   "metadata": {
    "collapsed": false
   },
   "id": "4d28cffa2f116df8"
  },
  {
   "cell_type": "code",
   "outputs": [],
   "source": [
    "from transformers import GPTQConfig,AutoTokenizer,AutoModelForCausalLM"
   ],
   "metadata": {
    "collapsed": false,
    "ExecuteTime": {
     "end_time": "2024-01-29T08:22:08.125036Z",
     "start_time": "2024-01-29T08:22:04.637244Z"
    }
   },
   "id": "e98fc68e6fe8352f",
   "execution_count": 1
  },
  {
   "cell_type": "code",
   "outputs": [],
   "source": [
    "config=GPTQConfig(\n",
    "    bits=4,\n",
    "    group_size=128,\n",
    "    dataset=\"c4\",\n",
    "    desc_act=False\n",
    "    \n",
    ")\n",
    "model_path='facebook/opt-2.7b'"
   ],
   "metadata": {
    "collapsed": false,
    "ExecuteTime": {
     "end_time": "2024-01-29T08:23:59.469276900Z",
     "start_time": "2024-01-29T08:23:59.453222Z"
    }
   },
   "id": "dea1c2043b2bad5c",
   "execution_count": 2
  },
  {
   "cell_type": "code",
   "outputs": [],
   "source": [
    "%%sql\n"
   ],
   "metadata": {
    "collapsed": false,
    "SqlCellData": {
     "variableName$1": "df_sql"
    }
   },
   "id": "5ddcf45de6cf3b6d"
  },
  {
   "cell_type": "code",
   "outputs": [],
   "source": [
    "tokenizer=AutoTokenizer.from_pretrained(model_path)"
   ],
   "metadata": {
    "collapsed": false
   },
   "id": "981a0e9f268f183"
  },
  {
   "cell_type": "code",
   "outputs": [],
   "source": [
    "quant_model=AutoModelForCausalLM(\n",
    "    model_path,\n",
    "    quantization_config=config,\n",
    "    device_map='auto'\n",
    ")"
   ],
   "metadata": {
    "collapsed": false
   },
   "id": "ab0b44ec4138d99b"
  },
  {
   "cell_type": "markdown",
   "source": [
    "## 检查模型"
   ],
   "metadata": {
    "collapsed": false
   },
   "id": "c59debd83cb7d465"
  },
  {
   "cell_type": "code",
   "outputs": [],
   "source": [
    "quant_model.model.decoder.layers[0].self_attn.q_proj.__dict__"
   ],
   "metadata": {
    "collapsed": false
   },
   "id": "7316495780560157"
  },
  {
   "cell_type": "code",
   "outputs": [],
   "source": [],
   "metadata": {
    "collapsed": false
   },
   "id": "b1511501511c1317"
  },
  {
   "cell_type": "markdown",
   "source": [
    "## 调用模型"
   ],
   "metadata": {
    "collapsed": false
   },
   "id": "5f13cf544f771a8c"
  },
  {
   "cell_type": "code",
   "outputs": [],
   "source": [
    "text=\"hello,can you introduce yourself?\"\n",
    "input=tokenizer(text,return_tensors='pt').to(0)\n",
    "output=quant_model.generate(**input,max_new_tokens=64)\n",
    "print(tokenizer.decode(output[0],skip_special_tokens=True))"
   ],
   "metadata": {
    "collapsed": false,
    "ExecuteTime": {
     "end_time": "2024-01-29T08:51:15.351388600Z",
     "start_time": "2024-01-29T08:51:15.332075600Z"
    }
   },
   "id": "1f6f868de065bc94",
   "execution_count": 3
  },
  {
   "cell_type": "code",
   "outputs": [],
   "source": [],
   "metadata": {
    "collapsed": false
   },
   "id": "1e24c7459c50d9d9"
  }
 ],
 "metadata": {
  "kernelspec": {
   "name": "transformers",
   "language": "python",
   "display_name": "transformers"
  },
  "language_info": {
   "codemirror_mode": {
    "name": "ipython",
    "version": 2
   },
   "file_extension": ".py",
   "mimetype": "text/x-python",
   "name": "python",
   "nbconvert_exporter": "python",
   "pygments_lexer": "ipython2",
   "version": "2.7.6"
  }
 },
 "nbformat": 4,
 "nbformat_minor": 5
}
