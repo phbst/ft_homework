{
 "cells": [
  {
   "cell_type": "code",
   "execution_count": 3,
   "id": "488f5c0d-413d-4542-a4f0-06c98bfac795",
   "metadata": {
    "execution": {
     "iopub.execute_input": "2024-01-30T07:14:28.973177Z",
     "iopub.status.busy": "2024-01-30T07:14:28.972508Z",
     "iopub.status.idle": "2024-01-30T07:14:28.978883Z",
     "shell.execute_reply": "2024-01-30T07:14:28.978111Z",
     "shell.execute_reply.started": "2024-01-30T07:14:28.973142Z"
    },
    "tags": [],
    "ExecuteTime": {
     "end_time": "2024-01-30T11:04:09.934008300Z",
     "start_time": "2024-01-30T11:04:09.920038200Z"
    }
   },
   "outputs": [],
   "source": [
    "import os\n",
    "import subprocess\n",
    "\n",
    "# 设置 HF_ENDPOINT 环境变量\n",
    "os.environ['HF_ENDPOINT'] = 'https://hf-mirror.com'\n",
    "\n",
    "def download_model(model_name):\n",
    "    try:\n",
    "        subprocess.run(['huggingface-cli', 'download', '--resume-download', model_name,'--local-dir',model_name], check=True)\n",
    "        print(f\"Model '{model_name}' downloaded successfully.\")\n",
    "    except subprocess.CalledProcessError as e:\n",
    "        print(f\"Error downloading model '{model_name}': {e}\")\n",
    "\n",
    "def download_dataset(dataset_name):\n",
    "    try:\n",
    "        subprocess.run(['huggingface-cli', 'download', '--resume-download','--repo-type','dataset',dataset_name,\"--local-dir\",dataset_name], check=True)\n",
    "        print(f\"Dataset '{dataset_name}' downloaded successfully.\")\n",
    "    except subprocess.CalledProcessError as e:\n",
    "        print(f\"Error downloading dataset '{dataset_name}': {e}\")"
   ]
  },
  {
   "cell_type": "code",
   "execution_count": null,
   "id": "324b4410-5a2f-49b1-80fd-1d404badb31c",
   "metadata": {
    "execution": {
     "iopub.execute_input": "2024-01-30T07:26:45.055587Z",
     "iopub.status.busy": "2024-01-30T07:26:45.054793Z",
     "iopub.status.idle": "2024-01-30T07:26:56.779812Z",
     "shell.execute_reply": "2024-01-30T07:26:56.779046Z",
     "shell.execute_reply.started": "2024-01-30T07:26:45.055552Z"
    },
    "scrolled": true,
    "tags": [],
    "is_executing": true,
    "ExecuteTime": {
     "start_time": "2024-01-30T11:04:10.008960300Z"
    }
   },
   "outputs": [],
   "source": [
    "download_model('facebook/opt-6.7b')"
   ]
  },
  {
   "cell_type": "code",
   "execution_count": null,
   "id": "fe435be4-5a9b-401e-b842-d3f282f37f4b",
   "metadata": {},
   "outputs": [],
   "source": []
  }
 ],
 "metadata": {
  "kernelspec": {
   "display_name": "Python 3 (ipykernel)",
   "language": "python",
   "name": "python3"
  },
  "language_info": {
   "codemirror_mode": {
    "name": "ipython",
    "version": 3
   },
   "file_extension": ".py",
   "mimetype": "text/x-python",
   "name": "python",
   "nbconvert_exporter": "python",
   "pygments_lexer": "ipython3",
   "version": "3.10.13"
  }
 },
 "nbformat": 4,
 "nbformat_minor": 5
}
