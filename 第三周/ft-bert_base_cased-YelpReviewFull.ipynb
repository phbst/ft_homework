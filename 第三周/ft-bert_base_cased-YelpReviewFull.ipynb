{
 "cells": [
  {
   "cell_type": "markdown",
   "source": [
    "# 在后台执行微调py文件的时候，程序老是中断，暂时不提交结果，后面会补上的。"
   ],
   "metadata": {
    "collapsed": false
   },
   "id": "d9f05e3bbaa296d8"
  },
  {
   "cell_type": "code",
   "outputs": [],
   "source": [
    "import os\n",
    "import subprocess\n",
    "\n",
    "# 设置 HF_ENDPOINT 环境变量\n",
    "os.environ['HF_ENDPOINT'] = 'https://hf-mirror.com'\n",
    "\n",
    "def download_model(model_name):\n",
    "    try:\n",
    "        subprocess.run(['huggingface-cli', 'download', '--resume-download', model_name,'--local-dir',model_name], check=True)\n",
    "        print(f\"Model '{model_name}' downloaded successfully.\")\n",
    "    except subprocess.CalledProcessError as e:\n",
    "        print(f\"Error downloading model '{model_name}': {e}\")\n",
    "\n",
    "def download_dataset(dataset_name):\n",
    "    try:\n",
    "        subprocess.run(['huggingface-cli', 'download', '--resume-download','--repo-type','dataset',dataset_name,\"--local-dir\",dataset_name], check=True)\n",
    "        print(f\"Dataset '{dataset_name}' downloaded successfully.\")\n",
    "    except subprocess.CalledProcessError as e:\n",
    "        print(f\"Error downloading dataset '{dataset_name}': {e}\")"
   ],
   "metadata": {
    "collapsed": false
   },
   "id": "afdbbf392bc99f0e"
  },
  {
   "cell_type": "markdown",
   "source": [],
   "metadata": {
    "collapsed": false
   },
   "id": "eccb8b07e8d521b9"
  },
  {
   "cell_type": "code",
   "execution_count": 3,
   "id": "8d9bab64-112a-4eb8-bef9-0ebc333f2bb3",
   "metadata": {
    "execution": {
     "iopub.execute_input": "2024-01-28T09:21:39.103364Z",
     "iopub.status.busy": "2024-01-28T09:21:39.102893Z",
     "iopub.status.idle": "2024-01-28T09:22:18.119920Z",
     "shell.execute_reply": "2024-01-28T09:22:18.119248Z",
     "shell.execute_reply.started": "2024-01-28T09:21:39.103333Z"
    },
    "tags": []
   },
   "outputs": [
    {
     "name": "stderr",
     "output_type": "stream",
     "text": [
      "Consider using `hf_transfer` for faster downloads. This solution comes with some limitations. See https://huggingface.co/docs/huggingface_hub/hf_transfer for more details.\n",
      "Fetching 4 files:   0%|          | 0/4 [00:00<?, ?it/s]downloading https://hf-mirror.com/datasets/yelp_review_full/resolve/c1f9ee939b7d05667af864ee1cb066393154bf85/.gitattributes to /root/.cache/huggingface/hub/datasets--yelp_review_full/blobs/957b2579c6ef20995a09efd9a17f8fd90606f5ed.incomplete\n",
      "downloading https://hf-mirror.com/datasets/yelp_review_full/resolve/c1f9ee939b7d05667af864ee1cb066393154bf85/yelp_review_full/test-00000-of-00001.parquet to /root/.cache/huggingface/hub/datasets--yelp_review_full/blobs/bf06d5969bff93ecd4a6d4b330643761ce108b42e9b8a894cf82c9df02a08540.incomplete\n",
      "downloading https://hf-mirror.com/datasets/yelp_review_full/resolve/c1f9ee939b7d05667af864ee1cb066393154bf85/README.md to /root/.cache/huggingface/hub/datasets--yelp_review_full/blobs/dbd7ee1cd254de795be0620f97800f28615df66e.incomplete\n",
      "\n",
      ".gitattributes: 1.17kB [00:00, 7.05MB/s]                 \u001B[A\n",
      "Fetching 4 files:  25%|██▌       | 1/4 [00:00<00:01,  1.64it/s]\n",
      "README.md: 6.72kB [00:00, 23.9MB/s]\n",
      "Fetching 4 files:  50%|█████     | 2/4 [00:00<00:00,  2.76it/s]downloading https://hf-mirror.com/datasets/yelp_review_full/resolve/c1f9ee939b7d05667af864ee1cb066393154bf85/yelp_review_full/train-00000-of-00001.parquet to /root/.cache/huggingface/hub/datasets--yelp_review_full/blobs/da3ca3dcc52b1e2e44195b53668610d645a59010a985dd45aa12e1109cd44601.incomplete\n",
      "\n",
      "train-00000-of-00001.parquet:   0%|          | 0.00/299M [00:00<?, ?B/s]\u001B[A\n",
      "\n",
      "test-00000-of-00001.parquet:   0%|          | 0.00/23.5M [00:00<?, ?B/s]\u001B[A\u001B[A\n",
      "train-00000-of-00001.parquet:   4%|▎         | 10.5M/299M [00:02<00:55, 5.21MB/s]\u001B[A\n",
      "train-00000-of-00001.parquet:   7%|▋         | 21.0M/299M [00:03<00:40, 6.96MB/s]\u001B[A\n",
      "train-00000-of-00001.parquet:  11%|█         | 31.5M/299M [00:04<00:34, 7.69MB/s]\u001B[A\n",
      "train-00000-of-00001.parquet:  14%|█▍        | 41.9M/299M [00:05<00:29, 8.68MB/s]\u001B[A\n",
      "train-00000-of-00001.parquet:  18%|█▊        | 52.4M/299M [00:06<00:28, 8.73MB/s]\u001B[A\n",
      "\n",
      "test-00000-of-00001.parquet:  45%|████▍     | 10.5M/23.5M [00:07<00:09, 1.42MB/s]\u001B[A\u001B[A\n",
      "train-00000-of-00001.parquet:  21%|██        | 62.9M/299M [00:07<00:26, 9.02MB/s]\u001B[A\n",
      "train-00000-of-00001.parquet:  25%|██▍       | 73.4M/299M [00:08<00:23, 9.45MB/s]\u001B[A\n",
      "train-00000-of-00001.parquet:  28%|██▊       | 83.9M/299M [00:09<00:23, 9.21MB/s]\u001B[A\n",
      "train-00000-of-00001.parquet:  32%|███▏      | 94.4M/299M [00:10<00:20, 9.94MB/s]\u001B[A\n",
      "\n",
      "test-00000-of-00001.parquet:  89%|████████▉ | 21.0M/23.5M [00:11<00:01, 1.86MB/s]\u001B[A\u001B[A\n",
      "train-00000-of-00001.parquet:  35%|███▌      | 105M/299M [00:12<00:21, 9.06MB/s] \u001B[A\n",
      "\n",
      "test-00000-of-00001.parquet: 100%|██████████| 23.5M/23.5M [00:12<00:00, 1.81MB/s]\u001B[A\u001B[A\n",
      "Fetching 4 files:  75%|███████▌  | 3/4 [00:15<00:06,  6.79s/it]\n",
      "train-00000-of-00001.parquet:  39%|███▊      | 115M/299M [00:13<00:20, 8.86MB/s]\u001B[A\n",
      "train-00000-of-00001.parquet:  42%|████▏     | 126M/299M [00:14<00:20, 8.59MB/s]\u001B[A\n",
      "train-00000-of-00001.parquet:  46%|████▌     | 136M/299M [00:15<00:18, 8.59MB/s]\u001B[A\n",
      "train-00000-of-00001.parquet:  49%|████▉     | 147M/299M [00:16<00:16, 9.35MB/s]\u001B[A\n",
      "train-00000-of-00001.parquet:  53%|█████▎    | 157M/299M [00:17<00:14, 9.94MB/s]\u001B[A\n",
      "train-00000-of-00001.parquet:  56%|█████▌    | 168M/299M [00:19<00:15, 8.49MB/s]\u001B[A\n",
      "train-00000-of-00001.parquet:  60%|█████▉    | 178M/299M [00:20<00:13, 8.73MB/s]\u001B[A\n",
      "train-00000-of-00001.parquet:  63%|██████▎   | 189M/299M [00:22<00:14, 7.47MB/s]\u001B[A\n",
      "train-00000-of-00001.parquet:  67%|██████▋   | 199M/299M [00:23<00:13, 7.68MB/s]\u001B[A\n",
      "train-00000-of-00001.parquet:  70%|███████   | 210M/299M [00:25<00:12, 7.45MB/s]\u001B[A\n",
      "train-00000-of-00001.parquet:  74%|███████▎  | 220M/299M [00:26<00:09, 8.25MB/s]\u001B[A\n",
      "train-00000-of-00001.parquet:  77%|███████▋  | 231M/299M [00:27<00:09, 7.59MB/s]\u001B[A\n",
      "train-00000-of-00001.parquet:  81%|████████  | 241M/299M [00:28<00:07, 8.19MB/s]\u001B[A\n",
      "train-00000-of-00001.parquet:  84%|████████▍ | 252M/299M [00:30<00:05, 8.03MB/s]\u001B[A\n",
      "train-00000-of-00001.parquet:  88%|████████▊ | 262M/299M [00:31<00:04, 8.25MB/s]\u001B[A\n",
      "train-00000-of-00001.parquet:  91%|█████████ | 273M/299M [00:33<00:03, 7.33MB/s]\u001B[A\n",
      "train-00000-of-00001.parquet:  95%|█████████▍| 283M/299M [00:34<00:02, 7.81MB/s]\u001B[A\n",
      "train-00000-of-00001.parquet:  98%|█████████▊| 294M/299M [00:35<00:00, 8.56MB/s]\u001B[A"
     ]
    },
    {
     "name": "stdout",
     "output_type": "stream",
     "text": [
      "/mnt/workspace/new2/LLM-quickstart/transformers/yelp_review_full\n",
      "Dataset 'yelp_review_full' downloaded successfully.\n"
     ]
    },
    {
     "name": "stderr",
     "output_type": "stream",
     "text": [
      "\n",
      "train-00000-of-00001.parquet: 100%|██████████| 299M/299M [00:35<00:00, 8.37MB/s]\u001B[A\n",
      "Fetching 4 files: 100%|██████████| 4/4 [00:37<00:00,  9.49s/it]\n"
     ]
    }
   ],
   "source": [
    "download_dataset(\"yelp_review_full\")"
   ]
  },
  {
   "cell_type": "code",
   "execution_count": 6,
   "id": "183cc043-2581-4740-911a-0c4bd551214a",
   "metadata": {
    "ExecutionIndicator": {
     "show": true
    },
    "execution": {
     "iopub.execute_input": "2024-01-28T09:32:51.051332Z",
     "iopub.status.busy": "2024-01-28T09:32:51.050841Z",
     "iopub.status.idle": "2024-01-28T09:32:52.197927Z",
     "shell.execute_reply": "2024-01-28T09:32:52.197267Z",
     "shell.execute_reply.started": "2024-01-28T09:32:51.051299Z"
    },
    "tags": []
   },
   "outputs": [
    {
     "name": "stderr",
     "output_type": "stream",
     "text": [
      "Generating train split: 650000 examples [00:00, 1273688.13 examples/s]\n",
      "Generating test split: 50000 examples [00:00, 1259974.53 examples/s]\n"
     ]
    }
   ],
   "source": [
    "from datasets import load_dataset\n",
    "\n",
    "dataset = load_dataset(\"/mnt/workspace/yelp_review_full/yelp_review_full/0.0.0\")"
   ]
  },
  {
   "cell_type": "code",
   "execution_count": 7,
   "id": "a2c22379-69f5-4bab-b461-4112fd825791",
   "metadata": {
    "execution": {
     "iopub.execute_input": "2024-01-28T09:32:54.752242Z",
     "iopub.status.busy": "2024-01-28T09:32:54.751766Z",
     "iopub.status.idle": "2024-01-28T09:32:54.759116Z",
     "shell.execute_reply": "2024-01-28T09:32:54.758367Z",
     "shell.execute_reply.started": "2024-01-28T09:32:54.752211Z"
    },
    "tags": []
   },
   "outputs": [
    {
     "data": {
      "text/plain": [
       "DatasetDict({\n",
       "    train: Dataset({\n",
       "        features: ['label', 'text'],\n",
       "        num_rows: 650000\n",
       "    })\n",
       "    test: Dataset({\n",
       "        features: ['label', 'text'],\n",
       "        num_rows: 50000\n",
       "    })\n",
       "})"
      ]
     },
     "execution_count": 7,
     "metadata": {},
     "output_type": "execute_result"
    }
   ],
   "source": [
    "dataset"
   ]
  },
  {
   "cell_type": "code",
   "execution_count": 13,
   "id": "d57115b9-a606-491b-9de1-3e2f79ad5bd4",
   "metadata": {
    "execution": {
     "iopub.execute_input": "2024-01-28T09:33:28.319620Z",
     "iopub.status.busy": "2024-01-28T09:33:28.319134Z",
     "iopub.status.idle": "2024-01-28T09:33:28.323248Z",
     "shell.execute_reply": "2024-01-28T09:33:28.322542Z",
     "shell.execute_reply.started": "2024-01-28T09:33:28.319589Z"
    },
    "tags": []
   },
   "outputs": [],
   "source": [
    "import random\n",
    "import pandas as pd\n",
    "import datasets\n",
    "from IPython.display import display, HTML"
   ]
  },
  {
   "cell_type": "code",
   "execution_count": 14,
   "id": "af6b8a5e-70fd-4d80-be5e-10cc49211c8f",
   "metadata": {
    "execution": {
     "iopub.execute_input": "2024-01-28T09:33:29.089620Z",
     "iopub.status.busy": "2024-01-28T09:33:29.089143Z",
     "iopub.status.idle": "2024-01-28T09:33:29.095109Z",
     "shell.execute_reply": "2024-01-28T09:33:29.094424Z",
     "shell.execute_reply.started": "2024-01-28T09:33:29.089590Z"
    },
    "tags": []
   },
   "outputs": [],
   "source": [
    "def show_random_elements(dataset, num_examples=10):\n",
    "    assert num_examples <= len(dataset), \"Can't pick more elements than there are in the dataset.\"\n",
    "    picks = []\n",
    "    for _ in range(num_examples):\n",
    "        pick = random.randint(0, len(dataset)-1)\n",
    "        while pick in picks:\n",
    "            pick = random.randint(0, len(dataset)-1)\n",
    "        picks.append(pick)\n",
    "    \n",
    "    df = pd.DataFrame(dataset[picks])\n",
    "    for column, typ in dataset.features.items():\n",
    "        if isinstance(typ, datasets.ClassLabel):\n",
    "            df[column] = df[column].transform(lambda i: typ.names[i])\n",
    "    display(HTML(df.to_html()))"
   ]
  },
  {
   "cell_type": "code",
   "execution_count": 15,
   "id": "f88720da-488d-42f7-b713-1d3d3c8a70bc",
   "metadata": {
    "ExecutionIndicator": {
     "show": true
    },
    "execution": {
     "iopub.execute_input": "2024-01-28T10:34:12.513313Z",
     "iopub.status.busy": "2024-01-28T10:34:12.512879Z",
     "iopub.status.idle": "2024-01-28T10:34:12.533038Z",
     "shell.execute_reply": "2024-01-28T10:34:12.532446Z",
     "shell.execute_reply.started": "2024-01-28T10:34:12.513284Z"
    },
    "tags": []
   },
   "outputs": [
    {
     "data": {
      "text/html": [
       "<table border=\"1\" class=\"dataframe\">\n",
       "  <thead>\n",
       "    <tr style=\"text-align: right;\">\n",
       "      <th></th>\n",
       "      <th>label</th>\n",
       "      <th>text</th>\n",
       "    </tr>\n",
       "  </thead>\n",
       "  <tbody>\n",
       "    <tr>\n",
       "      <th>0</th>\n",
       "      <td>4 stars</td>\n",
       "      <td>We had a late, light dinner here tonight.  It was recommended by our B&amp;B host and is an easy block and a half walk.  The building is old and the d\\u00e9cor is charming and eclectic.  The room you enter has the bar and it's noisier than the room to the left.  We were greeted warmly and given our choice of tables.  We chose the quieter room.  Tables are covered w/ butcher paper.  There's a bilingual menu and the table d'h\\u00f4te is on a blackboard.  Many things looked good, but we weren't hungry enough for anything major.  \\n\\nAlan chose the smoked salmon entr\\u00e9e (entr\\u00e9e here is an appetizer at home).  Our hostess was concerned that it wouldn't be enough for him.  I chose a four cheese sandwich w/ tomato and pesto.  It was heated but not grilled as a panini is.  It came w/ a choice of fries or salad and I chose the latter.  Both salad and sandwich were tasty.  Alan was pleased w/ his salmon.  He had bites of the salad and of the sandwich, so we both had enough food because I wasn't as hungry as he was.  We both had water to drink.  Service was friendly and accommodating and the food hit the spot.  3.51, rounded up.</td>\n",
       "    </tr>\n",
       "    <tr>\n",
       "      <th>1</th>\n",
       "      <td>1 star</td>\n",
       "      <td>Not a fan.  This place has a musty smell when you walk in, until you get to the bar. Then, it smells like a dirty bar mat that needs to be cleaned.  The barstools are also very uncomfortable.  Leaving forward and made me feel like I was going to fall out of it.  \\n\\nIt was pretty unpleasant so we left without ordering any food therefore I cannot speak to the food quality.</td>\n",
       "    </tr>\n",
       "    <tr>\n",
       "      <th>2</th>\n",
       "      <td>3 stars</td>\n",
       "      <td>I'd call this solid. Good execution of the high-end fundamentals (Federal Hill Style Calamari, Sunday Gravy, Squid Ink Risotto with Scallops...), but nothing truly Babbo-new to make you rethink the classics.\\n\\nAgain... Solid, authentic Italian for Nevada, pricey for Boston, but on balance I'd come back.</td>\n",
       "    </tr>\n",
       "    <tr>\n",
       "      <th>3</th>\n",
       "      <td>3 stars</td>\n",
       "      <td>Getting here for Spring Training was hell in hand basket. It probably took us 25 minutes from the time we turned onto Bullard to finally get a parking space. The layout of the place is not conducive at all to efficient flow of traffic. Once we parked it was a hike to get to the stadium itself so note to self for Spring Training next year:\\\"Leave two hours before the game starts\\\"\\nOnce we got to the stadium it was nice enough. We had seats by third base which weren't bad but this place is a little bigger than the other places I hit so I wasn't impressed by the seats. They have good food options at the concession stand and they have batting cages and a merry-go-round for kids which was good for me because an obnoxious brat was sitting behind me kicking my seat and being loud. I can only assume that his parents, after finally realizing that their kid was pissing me off, took him to the merry go round....otherwise I would have used him for batting practice.  \\nThe entire complex itself is nice:they have a park and a pool and of course the stadium itself. I imagine it a nice place to come for a family outing....just not during Spring Training.</td>\n",
       "    </tr>\n",
       "    <tr>\n",
       "      <th>4</th>\n",
       "      <td>5 stars</td>\n",
       "      <td>I wasn't even planning on buying a vape... My boyfriend went in to get one but everyone there was so nice and friendly (even their cute pup!) and there were soooo many good flavors I ended up buying one!  The small starter one... They help me put it together &amp; everything.  Great experience :)</td>\n",
       "    </tr>\n",
       "    <tr>\n",
       "      <th>5</th>\n",
       "      <td>4 stars</td>\n",
       "      <td>I went here with my wife and couple of our friends during the Sunday morning breakfast rush. This place was very busy, and I could see why. The reason? Bacon. Need I say more?\\n\\nSo I totally pigged out. I figures, what the heck. New place? Let's go knee deep. \\n\\nI had The Oink Omelette. I used to be a fat kid, so I felt my old self pop out. \\n\\nFive eggs, with bacon, sausage, ham and cheddar cheese. With hash browns. How I didn't keel over with a heart attack, I don't know. In my defense! I didn't eat the whole thing! \\n\\nBut I did eat a lot. The servers here were so friendly! There was an older woman in particular who I noticed calling people by their names. She was very attentive with refilling coffee and water. \\n\\nNext time, I think I'll try their jalapeno bacon.</td>\n",
       "    </tr>\n",
       "    <tr>\n",
       "      <th>6</th>\n",
       "      <td>3 stars</td>\n",
       "      <td>Dessy b's is good for what it is. Great price. I tried a steak and it wasn't too bad honestly. Nothing to write home about but I wasn't disappointed I suppose. There are however better places so I'm not sure if I'll return but if you're looking for a decent cheap meal you can find it here. Also, I don't remember her name but a little Latina lady was my server and she was super nice!</td>\n",
       "    </tr>\n",
       "    <tr>\n",
       "      <th>7</th>\n",
       "      <td>3 stars</td>\n",
       "      <td>I SOOOO wanted to love this place as it is cute as a bug's ear. Not that I'm saying there's bug's here,  I just think it's a lovely, modern clean space, with lots of light. My friend was craving the Greek pita. \\\"OMG...it's soooo good, you have to go get us some.\\\" So, I get our to go pitas (chicken, lettuce, feta and tomato), certainly not inventive, yet it sounded like it would hit the spot. \\\"OMG....the side pasta is sooooo good, you have to get that.\\\" Fine. Two Greek pitas both with pasta sides to go. Oh, and the chocolate cake. He said to get the chocolate sheet cake. Well, let me just say kiddies, the pita was dry, dry, dry. Sauceless and dry. Did I say it was dry. Chicken was dry. Pita was dry. It totally fell apart. And then so did I. Dry. Dry I say. Pasta side was actually quite good, all 2 oz. of it. BUT THE CAKE...OH MARY....THE CAKE! Truly a slice of chocolate heaven. I will go back and try some other items. Staff was friendly. I liked the space. Cake was, cheap, like a penny or something.</td>\n",
       "    </tr>\n",
       "    <tr>\n",
       "      <th>8</th>\n",
       "      <td>1 star</td>\n",
       "      <td>Worst place ever!  So disappointed and will never waste my time going back. How are you a brewery but are out of all your beers?  Not only are you out of beers but half the menu was unavailable. The only thing available were frozen veggie burgers and really thin fried pork. Service was pretty bad too. I'll just stop there. Good luck to those who choose to go!!!</td>\n",
       "    </tr>\n",
       "    <tr>\n",
       "      <th>9</th>\n",
       "      <td>2 star</td>\n",
       "      <td>I have to say, this hotel has been nothing but disappointing, and we still have three nights to go. We came to Vegas for a wedding and stayed here as the bride had booked a block of rooms. The only plus thus far is that it's pretty central within the strip. \\n\\nThus far: Parking is a nightmare. There is construction going on where the usual entrance would be and the only signage is a tiny sign hidden behind trees letting you know to make a U-turn and go around back. Then, the elevators from the parking garage to the lobby are disgusting. They look like death. Not to mention, parts are missing - as in, you look up, you can see the cables. Super re-assuring.\\n\\nCheck in: We arrived at 11pm on a Wednesday. We were waiting 30+ minutes to check in! I would have to imagine they're used to crowds, they should really have more than 4 people checking people in. Yowza. \\n\\nRoom: The room (if you get an updated one) is fine. It's big (we had two queens, standard room). Problems: The bathroom vent fan filter was absolutely filthy. Dust everywhere. The toilet and the shower ran - constant noise. Both the lights in the room didn't work. Walls are very thin, you can hear everyone and everything in the halls and next door. Also, ask if you are going to face the pool area - music blasts until about midnight (Which I don't mind so much, but you'll want to know). The beds, I will say, are super comfortable. No complaints there.\\n\\nWe ordered room service - a 'movie package' which included 'large popcorn, Red Vines, two sodas and two bottles of water\\\" - $25.00. When I called to order the lady put me on hold three times and finally said \\\"I'll call you back\\\" because apparently this was a new menu item and she couldn't find it. When she did call back, I had to remind her about the sodas. What arrived (45 minutes later): Two bags of microwave popcorn (half popped), 4 Red Vines, two glasses of water, and two mini-bottles of soda. Excellent. \\n\\nOverall, I'm not impressed at all. I love the history of this place, and its location, but it's so not compensating for the rest of the mess.</td>\n",
       "    </tr>\n",
       "  </tbody>\n",
       "</table>"
      ],
      "text/plain": [
       "<IPython.core.display.HTML object>"
      ]
     },
     "metadata": {},
     "output_type": "display_data"
    }
   ],
   "source": [
    "show_random_elements(dataset[\"train\"])"
   ]
  },
  {
   "cell_type": "code",
   "execution_count": 16,
   "id": "4f9b7de6-86cd-4821-8b2f-68711a7ae3fc",
   "metadata": {
    "execution": {
     "iopub.execute_input": "2024-01-28T10:34:23.713581Z",
     "iopub.status.busy": "2024-01-28T10:34:23.713066Z",
     "iopub.status.idle": "2024-01-28T10:38:34.717375Z",
     "shell.execute_reply": "2024-01-28T10:38:34.716592Z",
     "shell.execute_reply.started": "2024-01-28T10:34:23.713548Z"
    },
    "tags": []
   },
   "outputs": [
    {
     "name": "stderr",
     "output_type": "stream",
     "text": [
      "tokenizer_config.json: 100%|██████████| 29.0/29.0 [00:00<00:00, 165kB/s]\n",
      "config.json: 570B [00:00, 2.77MB/s]                   \n",
      "vocab.txt: 213kB [00:00, 1.67MB/s]\n",
      "tokenizer.json: 436kB [00:00, 1.14MB/s]\n",
      "Map: 100%|██████████| 650000/650000 [03:48<00:00, 2849.50 examples/s]\n",
      "Map: 100%|██████████| 50000/50000 [00:17<00:00, 2828.60 examples/s]\n"
     ]
    }
   ],
   "source": [
    "from transformers import AutoTokenizer\n",
    "\n",
    "tokenizer = AutoTokenizer.from_pretrained(\"bert-base-cased\")\n",
    "\n",
    "\n",
    "def tokenize_function(examples):\n",
    "    return tokenizer(examples[\"text\"], padding=\"max_length\", truncation=True)\n",
    "\n",
    "\n",
    "tokenized_datasets = dataset.map(tokenize_function, batched=True)"
   ]
  },
  {
   "cell_type": "code",
   "execution_count": 17,
   "id": "c2d33c0c-9673-4290-aa42-bff7437971fe",
   "metadata": {
    "execution": {
     "iopub.execute_input": "2024-01-28T10:38:34.719026Z",
     "iopub.status.busy": "2024-01-28T10:38:34.718654Z",
     "iopub.status.idle": "2024-01-28T10:38:34.729125Z",
     "shell.execute_reply": "2024-01-28T10:38:34.728526Z",
     "shell.execute_reply.started": "2024-01-28T10:38:34.718998Z"
    },
    "tags": []
   },
   "outputs": [
    {
     "data": {
      "text/html": [
       "<table border=\"1\" class=\"dataframe\">\n",
       "  <thead>\n",
       "    <tr style=\"text-align: right;\">\n",
       "      <th></th>\n",
       "      <th>label</th>\n",
       "      <th>text</th>\n",
       "      <th>input_ids</th>\n",
       "      <th>token_type_ids</th>\n",
       "      <th>attention_mask</th>\n",
       "    </tr>\n",
       "  </thead>\n",
       "  <tbody>\n",
       "    <tr>\n",
       "      <th>0</th>\n",
       "      <td>3 stars</td>\n",
       "      <td>Stop #1 for the Light Rail Pub Crawl was Rula Bula... at least for me - and it was my first time there!\\n\\nI was with my mother-in-law-to-be (Joan M), and upon making our way to the back patio, we were welcomed by a huge group of yelpers.  Great back patio by the way.  I had a Stella and Joan an Irish coffee...\\n\\nKate was our server and handled our group well - she did a good job considering so many peeps arriving at different times and paying separately.  Only one discrepancy that I overheard but it wasn't too big a deal...\\n\\nThe bathroom was pretty filthy and the TP was out in one stall while the door wouldn't shut on another - not a fan of nasty bathrooms in restaurants.\\n\\nEnjoyable pub atmosphere and convenient location on Mill Ave just off the Light Rail.  Although we didn't eat during our visit, I was impressed with the selection on the menu and based on the positive reviews that came before mine, I would totally be open to returning to eat sometime.  I'll update then!</td>\n",
       "      <td>[101, 6682, 108, 122, 1111, 1103, 3935, 8654, 21385, 140, 28115, 1233, 1108, 155, 5886, 139, 5886, 119, 119, 119, 1120, 1655, 1111, 1143, 118, 1105, 1122, 1108, 1139, 1148, 1159, 1175, 106, 165, 183, 165, 183, 2240, 1108, 1114, 1139, 1534, 118, 1107, 118, 1644, 118, 1106, 118, 1129, 113, 6914, 150, 114, 117, 1105, 1852, 1543, 1412, 1236, 1106, 1103, 1171, 22408, 117, 1195, 1127, 10977, 1118, 170, 3321, 1372, 1104, 6798, 1233, 6206, 119, 2038, 1171, 22408, 1118, 1103, 1236, 119, 146, 1125, 170, 12126, 1105, 6914, 1126, 2600, 3538, 119, 119, 119, 165, 183, 165, 183, ...]</td>\n",
       "      <td>[0, 0, 0, 0, 0, 0, 0, 0, 0, 0, 0, 0, 0, 0, 0, 0, 0, 0, 0, 0, 0, 0, 0, 0, 0, 0, 0, 0, 0, 0, 0, 0, 0, 0, 0, 0, 0, 0, 0, 0, 0, 0, 0, 0, 0, 0, 0, 0, 0, 0, 0, 0, 0, 0, 0, 0, 0, 0, 0, 0, 0, 0, 0, 0, 0, 0, 0, 0, 0, 0, 0, 0, 0, 0, 0, 0, 0, 0, 0, 0, 0, 0, 0, 0, 0, 0, 0, 0, 0, 0, 0, 0, 0, 0, 0, 0, 0, 0, 0, 0, ...]</td>\n",
       "      <td>[1, 1, 1, 1, 1, 1, 1, 1, 1, 1, 1, 1, 1, 1, 1, 1, 1, 1, 1, 1, 1, 1, 1, 1, 1, 1, 1, 1, 1, 1, 1, 1, 1, 1, 1, 1, 1, 1, 1, 1, 1, 1, 1, 1, 1, 1, 1, 1, 1, 1, 1, 1, 1, 1, 1, 1, 1, 1, 1, 1, 1, 1, 1, 1, 1, 1, 1, 1, 1, 1, 1, 1, 1, 1, 1, 1, 1, 1, 1, 1, 1, 1, 1, 1, 1, 1, 1, 1, 1, 1, 1, 1, 1, 1, 1, 1, 1, 1, 1, 1, ...]</td>\n",
       "    </tr>\n",
       "  </tbody>\n",
       "</table>"
      ],
      "text/plain": [
       "<IPython.core.display.HTML object>"
      ]
     },
     "metadata": {},
     "output_type": "display_data"
    }
   ],
   "source": [
    "show_random_elements(tokenized_datasets[\"train\"], num_examples=1)"
   ]
  },
  {
   "cell_type": "code",
   "execution_count": 20,
   "id": "db685bde-f8d0-4574-9baa-21bf9a51ee16",
   "metadata": {
    "execution": {
     "iopub.execute_input": "2024-01-28T10:39:44.833528Z",
     "iopub.status.busy": "2024-01-28T10:39:44.833070Z",
     "iopub.status.idle": "2024-01-28T10:39:44.846652Z",
     "shell.execute_reply": "2024-01-28T10:39:44.846057Z",
     "shell.execute_reply.started": "2024-01-28T10:39:44.833501Z"
    },
    "tags": []
   },
   "outputs": [],
   "source": [
    "small_train_dataset = tokenized_datasets[\"train\"].shuffle(seed=42)\n",
    "small_eval_dataset = tokenized_datasets[\"test\"].shuffle(seed=42)"
   ]
  },
  {
   "cell_type": "code",
   "execution_count": 21,
   "id": "c624944d-0a7b-4719-a455-5c0afec0e61f",
   "metadata": {
    "execution": {
     "iopub.execute_input": "2024-01-28T10:39:44.847874Z",
     "iopub.status.busy": "2024-01-28T10:39:44.847495Z",
     "iopub.status.idle": "2024-01-28T10:39:45.265118Z",
     "shell.execute_reply": "2024-01-28T10:39:45.264428Z",
     "shell.execute_reply.started": "2024-01-28T10:39:44.847849Z"
    },
    "tags": []
   },
   "outputs": [
    {
     "name": "stderr",
     "output_type": "stream",
     "text": [
      "Some weights of BertForSequenceClassification were not initialized from the model checkpoint at bert-base-cased and are newly initialized: ['classifier.bias', 'classifier.weight']\n",
      "You should probably TRAIN this model on a down-stream task to be able to use it for predictions and inference.\n"
     ]
    }
   ],
   "source": [
    "from transformers import AutoModelForSequenceClassification\n",
    "\n",
    "model = AutoModelForSequenceClassification.from_pretrained(\"bert-base-cased\", num_labels=5)"
   ]
  },
  {
   "cell_type": "code",
   "execution_count": 22,
   "id": "67bff9a0-684e-4158-8ff3-9d40b100bb9a",
   "metadata": {
    "execution": {
     "iopub.execute_input": "2024-01-28T10:39:45.266738Z",
     "iopub.status.busy": "2024-01-28T10:39:45.266165Z",
     "iopub.status.idle": "2024-01-28T10:39:47.272015Z",
     "shell.execute_reply": "2024-01-28T10:39:47.271287Z",
     "shell.execute_reply.started": "2024-01-28T10:39:45.266709Z"
    },
    "tags": []
   },
   "outputs": [],
   "source": [
    "from transformers import TrainingArguments\n",
    "\n",
    "model_dir = \"models/bert-base-cased\"\n",
    "\n",
    "# logging_steps 默认值为500，根据我们的训练数据和步长，将其设置为100\n",
    "training_args = TrainingArguments(output_dir=f\"{model_dir}/test_trainer\",\n",
    "                                  logging_dir=f\"{model_dir}/test_trainer/runs\",\n",
    "                                  logging_steps=100)"
   ]
  },
  {
   "cell_type": "code",
   "execution_count": 23,
   "id": "d5f804f7-798a-4f25-ad57-310542375521",
   "metadata": {
    "execution": {
     "iopub.execute_input": "2024-01-28T10:39:47.273394Z",
     "iopub.status.busy": "2024-01-28T10:39:47.273026Z",
     "iopub.status.idle": "2024-01-28T10:39:47.278278Z",
     "shell.execute_reply": "2024-01-28T10:39:47.277422Z",
     "shell.execute_reply.started": "2024-01-28T10:39:47.273365Z"
    },
    "tags": []
   },
   "outputs": [
    {
     "name": "stdout",
     "output_type": "stream",
     "text": [
      "TrainingArguments(\n",
      "_n_gpu=1,\n",
      "adafactor=False,\n",
      "adam_beta1=0.9,\n",
      "adam_beta2=0.999,\n",
      "adam_epsilon=1e-08,\n",
      "auto_find_batch_size=False,\n",
      "bf16=False,\n",
      "bf16_full_eval=False,\n",
      "data_seed=None,\n",
      "dataloader_drop_last=False,\n",
      "dataloader_num_workers=0,\n",
      "dataloader_persistent_workers=False,\n",
      "dataloader_pin_memory=True,\n",
      "ddp_backend=None,\n",
      "ddp_broadcast_buffers=None,\n",
      "ddp_bucket_cap_mb=None,\n",
      "ddp_find_unused_parameters=None,\n",
      "ddp_timeout=1800,\n",
      "debug=[],\n",
      "deepspeed=None,\n",
      "disable_tqdm=False,\n",
      "dispatch_batches=None,\n",
      "do_eval=False,\n",
      "do_predict=False,\n",
      "do_train=False,\n",
      "eval_accumulation_steps=None,\n",
      "eval_delay=0,\n",
      "eval_steps=None,\n",
      "evaluation_strategy=no,\n",
      "fp16=False,\n",
      "fp16_backend=auto,\n",
      "fp16_full_eval=False,\n",
      "fp16_opt_level=O1,\n",
      "fsdp=[],\n",
      "fsdp_config={'min_num_params': 0, 'xla': False, 'xla_fsdp_grad_ckpt': False},\n",
      "fsdp_min_num_params=0,\n",
      "fsdp_transformer_layer_cls_to_wrap=None,\n",
      "full_determinism=False,\n",
      "gradient_accumulation_steps=1,\n",
      "gradient_checkpointing=False,\n",
      "gradient_checkpointing_kwargs=None,\n",
      "greater_is_better=None,\n",
      "group_by_length=False,\n",
      "half_precision_backend=auto,\n",
      "hub_always_push=False,\n",
      "hub_model_id=None,\n",
      "hub_private_repo=False,\n",
      "hub_strategy=every_save,\n",
      "hub_token=<HUB_TOKEN>,\n",
      "ignore_data_skip=False,\n",
      "include_inputs_for_metrics=False,\n",
      "include_num_input_tokens_seen=False,\n",
      "include_tokens_per_second=False,\n",
      "jit_mode_eval=False,\n",
      "label_names=None,\n",
      "label_smoothing_factor=0.0,\n",
      "learning_rate=5e-05,\n",
      "length_column_name=length,\n",
      "load_best_model_at_end=False,\n",
      "local_rank=0,\n",
      "log_level=passive,\n",
      "log_level_replica=warning,\n",
      "log_on_each_node=True,\n",
      "logging_dir=models/bert-base-cased/test_trainer/runs,\n",
      "logging_first_step=False,\n",
      "logging_nan_inf_filter=True,\n",
      "logging_steps=100,\n",
      "logging_strategy=steps,\n",
      "lr_scheduler_kwargs={},\n",
      "lr_scheduler_type=linear,\n",
      "max_grad_norm=1.0,\n",
      "max_steps=-1,\n",
      "metric_for_best_model=None,\n",
      "mp_parameters=,\n",
      "neftune_noise_alpha=None,\n",
      "no_cuda=False,\n",
      "num_train_epochs=3.0,\n",
      "optim=adamw_torch,\n",
      "optim_args=None,\n",
      "output_dir=models/bert-base-cased/test_trainer,\n",
      "overwrite_output_dir=False,\n",
      "past_index=-1,\n",
      "per_device_eval_batch_size=8,\n",
      "per_device_train_batch_size=8,\n",
      "prediction_loss_only=False,\n",
      "push_to_hub=False,\n",
      "push_to_hub_model_id=None,\n",
      "push_to_hub_organization=None,\n",
      "push_to_hub_token=<PUSH_TO_HUB_TOKEN>,\n",
      "ray_scope=last,\n",
      "remove_unused_columns=True,\n",
      "report_to=['tensorboard'],\n",
      "resume_from_checkpoint=None,\n",
      "run_name=models/bert-base-cased/test_trainer,\n",
      "save_on_each_node=False,\n",
      "save_only_model=False,\n",
      "save_safetensors=True,\n",
      "save_steps=500,\n",
      "save_strategy=steps,\n",
      "save_total_limit=None,\n",
      "seed=42,\n",
      "skip_memory_metrics=True,\n",
      "split_batches=False,\n",
      "tf32=None,\n",
      "torch_compile=False,\n",
      "torch_compile_backend=None,\n",
      "torch_compile_mode=None,\n",
      "torchdynamo=None,\n",
      "tpu_metrics_debug=False,\n",
      "tpu_num_cores=None,\n",
      "use_cpu=False,\n",
      "use_ipex=False,\n",
      "use_legacy_prediction_loop=False,\n",
      "use_mps_device=False,\n",
      "warmup_ratio=0.0,\n",
      "warmup_steps=0,\n",
      "weight_decay=0.0,\n",
      ")\n"
     ]
    }
   ],
   "source": [
    "print(training_args)"
   ]
  },
  {
   "cell_type": "code",
   "execution_count": 26,
   "id": "558564d8-9a26-43e2-8e4f-cdcbc5419390",
   "metadata": {
    "execution": {
     "iopub.execute_input": "2024-01-28T11:00:53.908908Z",
     "iopub.status.busy": "2024-01-28T11:00:53.908331Z",
     "iopub.status.idle": "2024-01-28T11:01:08.830099Z",
     "shell.execute_reply": "2024-01-28T11:01:08.829250Z",
     "shell.execute_reply.started": "2024-01-28T11:00:53.908851Z"
    },
    "tags": []
   },
   "outputs": [
    {
     "name": "stderr",
     "output_type": "stream",
     "text": [
      "2024-01-28 19:00:54.157032: I tensorflow/tsl/cuda/cudart_stub.cc:28] Could not find cuda drivers on your machine, GPU will not be used.\n",
      "2024-01-28 19:00:54.204448: E tensorflow/compiler/xla/stream_executor/cuda/cuda_dnn.cc:9342] Unable to register cuDNN factory: Attempting to register factory for plugin cuDNN when one has already been registered\n",
      "2024-01-28 19:00:54.204474: E tensorflow/compiler/xla/stream_executor/cuda/cuda_fft.cc:609] Unable to register cuFFT factory: Attempting to register factory for plugin cuFFT when one has already been registered\n",
      "2024-01-28 19:00:54.204499: E tensorflow/compiler/xla/stream_executor/cuda/cuda_blas.cc:1518] Unable to register cuBLAS factory: Attempting to register factory for plugin cuBLAS when one has already been registered\n",
      "2024-01-28 19:00:54.213174: I tensorflow/tsl/cuda/cudart_stub.cc:28] Could not find cuda drivers on your machine, GPU will not be used.\n",
      "2024-01-28 19:00:54.213583: I tensorflow/core/platform/cpu_feature_guard.cc:182] This TensorFlow binary is optimized to use available CPU instructions in performance-critical operations.\n",
      "To enable the following instructions: AVX2 AVX512F FMA, in other operations, rebuild TensorFlow with the appropriate compiler flags.\n",
      "2024-01-28 19:00:55.281784: W tensorflow/compiler/tf2tensorrt/utils/py_utils.cc:38] TF-TRT Warning: Could not find TensorRT\n",
      "Downloading builder script: 4.20kB [00:00, 8.03MB/s]                   \n"
     ]
    }
   ],
   "source": [
    "import numpy as np\n",
    "import evaluate\n",
    "\n",
    "metric = evaluate.load(\"accuracy\")"
   ]
  },
  {
   "cell_type": "code",
   "execution_count": 27,
   "id": "4ab25ed0-0a4c-4b42-9b17-674bfd98fda9",
   "metadata": {
    "execution": {
     "iopub.execute_input": "2024-01-28T11:01:08.831958Z",
     "iopub.status.busy": "2024-01-28T11:01:08.831375Z",
     "iopub.status.idle": "2024-01-28T11:01:08.836138Z",
     "shell.execute_reply": "2024-01-28T11:01:08.835180Z",
     "shell.execute_reply.started": "2024-01-28T11:01:08.831929Z"
    },
    "tags": []
   },
   "outputs": [],
   "source": [
    "def compute_metrics(eval_pred):\n",
    "    logits, labels = eval_pred\n",
    "    predictions = np.argmax(logits, axis=-1)\n",
    "    return metric.compute(predictions=predictions, references=labels)"
   ]
  },
  {
   "cell_type": "code",
   "execution_count": 28,
   "id": "36738ed1-2856-464b-aa93-4d27fb505a19",
   "metadata": {
    "execution": {
     "iopub.execute_input": "2024-01-28T11:01:08.837194Z",
     "iopub.status.busy": "2024-01-28T11:01:08.836954Z",
     "iopub.status.idle": "2024-01-28T11:01:09.270223Z",
     "shell.execute_reply": "2024-01-28T11:01:09.269527Z",
     "shell.execute_reply.started": "2024-01-28T11:01:08.837172Z"
    },
    "tags": []
   },
   "outputs": [],
   "source": [
    "from transformers import TrainingArguments, Trainer\n",
    "\n",
    "training_args = TrainingArguments(output_dir=f\"{model_dir}/test_trainer\",\n",
    "                                  evaluation_strategy=\"epoch\", \n",
    "                                  logging_dir=f\"{model_dir}/test_trainer/runs\",\n",
    "                                  logging_steps=100)"
   ]
  },
  {
   "cell_type": "code",
   "execution_count": 29,
   "id": "fc39252f-6e14-4c5a-8bfd-0575fbb3c151",
   "metadata": {
    "execution": {
     "iopub.execute_input": "2024-01-28T11:01:09.273044Z",
     "iopub.status.busy": "2024-01-28T11:01:09.272411Z",
     "iopub.status.idle": "2024-01-28T11:01:11.305091Z",
     "shell.execute_reply": "2024-01-28T11:01:11.304192Z",
     "shell.execute_reply.started": "2024-01-28T11:01:09.272999Z"
    },
    "tags": []
   },
   "outputs": [
    {
     "name": "stderr",
     "output_type": "stream",
     "text": [
      "Detected kernel version 4.19.24, which is below the recommended minimum of 5.5.0; this can cause the process to hang. It is recommended to upgrade the kernel to the minimum version or higher.\n"
     ]
    }
   ],
   "source": [
    "trainer = Trainer(\n",
    "    model=model,\n",
    "    args=training_args,\n",
    "    train_dataset=small_train_dataset,\n",
    "    eval_dataset=small_eval_dataset,\n",
    "    compute_metrics=compute_metrics,\n",
    ")"
   ]
  },
  {
   "cell_type": "code",
   "execution_count": null,
   "id": "67565172-bf69-4144-82a7-5d03743fe2f1",
   "metadata": {
    "execution": {
     "iopub.execute_input": "2024-01-28T11:01:11.306405Z",
     "iopub.status.busy": "2024-01-28T11:01:11.306130Z"
    },
    "tags": []
   },
   "outputs": [
    {
     "data": {
      "text/html": [
       "\n",
       "    <div>\n",
       "      \n",
       "      <progress value='266' max='243750' style='width:300px; height:20px; vertical-align: middle;'></progress>\n",
       "      [   266/243750 01:03 < 16:17:22, 4.15 it/s, Epoch 0.00/3]\n",
       "    </div>\n",
       "    <table border=\"1\" class=\"dataframe\">\n",
       "  <thead>\n",
       " <tr style=\"text-align: left;\">\n",
       "      <th>Epoch</th>\n",
       "      <th>Training Loss</th>\n",
       "      <th>Validation Loss</th>\n",
       "    </tr>\n",
       "  </thead>\n",
       "  <tbody>\n",
       "  </tbody>\n",
       "</table><p>"
      ],
      "text/plain": [
       "<IPython.core.display.HTML object>"
      ]
     },
     "metadata": {},
     "output_type": "display_data"
    }
   ],
   "source": [
    "trainer.train()"
   ]
  },
  {
   "cell_type": "code",
   "execution_count": null,
   "id": "e8e47753-b30b-44af-890f-c2ec7b360b53",
   "metadata": {
    "tags": []
   },
   "outputs": [],
   "source": [
    "trainer.evaluate(small_test_dataset)"
   ]
  },
  {
   "cell_type": "code",
   "execution_count": null,
   "id": "c93df625-0eb5-4b9d-a7d9-8b9fdc5cf9ab",
   "metadata": {
    "tags": []
   },
   "outputs": [],
   "source": [
    "trainer.save_model(f\"{model_dir}/finetuned-trainer\")"
   ]
  },
  {
   "cell_type": "code",
   "execution_count": null,
   "id": "221ed158-2285-4b62-aa11-04ca6169702e",
   "metadata": {
    "tags": []
   },
   "outputs": [],
   "source": [
    "trainer.save_state()"
   ]
  },
  {
   "cell_type": "code",
   "execution_count": null,
   "id": "417e9745-a418-43f6-9d7c-2b3ced8d3d9f",
   "metadata": {},
   "outputs": [],
   "source": []
  }
 ],
 "metadata": {
  "kernelspec": {
   "display_name": "Python 3 (ipykernel)",
   "language": "python",
   "name": "python3"
  },
  "language_info": {
   "codemirror_mode": {
    "name": "ipython",
    "version": 3
   },
   "file_extension": ".py",
   "mimetype": "text/x-python",
   "name": "python",
   "nbconvert_exporter": "python",
   "pygments_lexer": "ipython3",
   "version": "3.10.13"
  }
 },
 "nbformat": 4,
 "nbformat_minor": 5
}
